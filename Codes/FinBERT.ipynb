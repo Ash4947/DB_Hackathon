{
  "nbformat": 4,
  "nbformat_minor": 0,
  "metadata": {
    "colab": {
      "provenance": []
    },
    "kernelspec": {
      "name": "python3",
      "display_name": "Python 3"
    },
    "language_info": {
      "name": "python"
    }
  },
  "cells": [
    {
      "cell_type": "code",
      "execution_count": 8,
      "metadata": {
        "colab": {
          "base_uri": "https://localhost:8080/"
        },
        "id": "assJKeIchvD3",
        "outputId": "5c514daf-cc32-4776-8a03-61a155567abb"
      },
      "outputs": [
        {
          "output_type": "stream",
          "name": "stderr",
          "text": [
            "/usr/local/lib/python3.10/dist-packages/transformers/tokenization_utils_base.py:1601: FutureWarning: `clean_up_tokenization_spaces` was not set. It will be set to `True` by default. This behavior will be depracted in transformers v4.45, and will be then set to `False` by default. For more details check this issue: https://github.com/huggingface/transformers/issues/31884\n",
            "  warnings.warn(\n"
          ]
        },
        {
          "output_type": "stream",
          "name": "stdout",
          "text": [
            "Sentiment analysis completed. Results saved to sentiment_results_economy_global.xlsx.\n"
          ]
        }
      ],
      "source": [
        "import pandas as pd\n",
        "from transformers import BertTokenizer, BertForSequenceClassification\n",
        "import torch\n",
        "\n",
        "# Load FinBERT model and tokenizer\n",
        "model_name = 'yiyanghkust/finbert-tone'\n",
        "tokenizer = BertTokenizer.from_pretrained(model_name)\n",
        "model = BertForSequenceClassification.from_pretrained(model_name)\n",
        "\n",
        "# Function to get sentiment\n",
        "def get_sentiment(headline):\n",
        "    inputs = tokenizer(headline, return_tensors=\"pt\", truncation=True, padding=True, max_length=512)\n",
        "    with torch.no_grad():\n",
        "        outputs = model(**inputs)\n",
        "    probs = torch.nn.functional.softmax(outputs.logits, dim=-1)\n",
        "    sentiment_score = probs.numpy().flatten()\n",
        "    return sentiment_score\n",
        "\n",
        "# Read the Excel file\n",
        "file_path = '/content/Global_Economy.xlsx'  # Update the file path as needed\n",
        "df = pd.read_excel(file_path)\n",
        "\n",
        "# Check if the 'Headlines' column exists\n",
        "if 'Headlines' not in df.columns:\n",
        "    raise ValueError(\"The Excel file must contain a column named 'Headlines'.\")\n",
        "\n",
        "# Apply sentiment analysis\n",
        "df['Sentiment'] = df['Headlines'].apply(get_sentiment)\n",
        "\n",
        "# Save the results to a new Excel file\n",
        "output_file_path = 'sentiment_results_economy_global.xlsx'\n",
        "df.to_excel(output_file_path, index=False)\n",
        "\n",
        "print(f\"Sentiment analysis completed. Results saved to {output_file_path}.\")\n"
      ]
    },
    {
      "cell_type": "code",
      "source": [],
      "metadata": {
        "id": "hUKj9yB9iBfp"
      },
      "execution_count": null,
      "outputs": []
    }
  ]
}